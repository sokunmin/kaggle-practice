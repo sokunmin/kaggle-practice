{
 "cells": [
  {
   "cell_type": "code",
   "execution_count": 14,
   "metadata": {},
   "outputs": [],
   "source": [
    "import pandas as pd\n",
    "import matplotlib.pyplot as plt\n",
    "import seaborn as sns\n",
    "from pandas.plotting import register_matplotlib_converters\n",
    "\n",
    "register_matplotlib_converters()\n",
    "sns.set_style(\"darkgrid\")\n",
    "\n",
    "df = pd.read_csv('./data/candy_production.csv')\n",
    "df.columns = ['date', 'production']\n",
    "df['date'] = pd.to_datetime(df['date'], format='%Y-%m-%d')\n",
    "CandyXTS = pd.Series(df['production'].values, index=df['date'])\n",
    "CandyTS = pd.Series(df['production'].values, index=pd.date_range(start='1972-01-01', end='2017-08-01', freq='MS'))"
   ]
  },
  {
   "cell_type": "code",
   "execution_count": 15,
   "metadata": {},
   "outputs": [
    {
     "data": {
      "text/plain": [
       "date\n",
       "1972-01-01    85.6945\n",
       "1972-02-01    71.8200\n",
       "1972-03-01    66.0229\n",
       "1972-04-01    64.5645\n",
       "1972-05-01    65.0100\n",
       "dtype: float64"
      ]
     },
     "execution_count": 15,
     "metadata": {},
     "output_type": "execute_result"
    }
   ],
   "source": [
    "df.head()\n",
    "CandyXTS.head()"
   ]
  },
  {
   "cell_type": "code",
   "execution_count": 10,
   "metadata": {},
   "outputs": [],
   "source": [
    "plt.rc(\"figure\", figsize=(16, 12))\n",
    "plt.rc(\"font\", size=13)"
   ]
  },
  {
   "cell_type": "code",
   "execution_count": 19,
   "metadata": {},
   "outputs": [
    {
     "ename": "ImportError",
     "evalue": "cannot import name 'prod' from 'scipy._lib._util' (c:\\ProgramData\\miniconda3\\envs\\py3\\Lib\\site-packages\\scipy\\_lib\\_util.py)",
     "output_type": "error",
     "traceback": [
      "\u001b[1;31m---------------------------------------------------------------------------\u001b[0m",
      "\u001b[1;31mImportError\u001b[0m                               Traceback (most recent call last)",
      "Cell \u001b[1;32mIn[19], line 1\u001b[0m\n\u001b[1;32m----> 1\u001b[0m \u001b[39mfrom\u001b[39;00m \u001b[39mstatsmodels\u001b[39;00m\u001b[39m.\u001b[39;00m\u001b[39mtsa\u001b[39;00m\u001b[39m.\u001b[39;00m\u001b[39mseasonal\u001b[39;00m \u001b[39mimport\u001b[39;00m STL\n\u001b[0;32m      3\u001b[0m stl \u001b[39m=\u001b[39m STL(CandyXTS, seasonal\u001b[39m=\u001b[39m\u001b[39m13\u001b[39m)\n\u001b[0;32m      4\u001b[0m res \u001b[39m=\u001b[39m stl\u001b[39m.\u001b[39mfit()\n",
      "File \u001b[1;32mc:\\ProgramData\\miniconda3\\envs\\py3\\Lib\\site-packages\\statsmodels\\tsa\\seasonal.py:10\u001b[0m\n\u001b[0;32m      8\u001b[0m \u001b[39mfrom\u001b[39;00m \u001b[39mstatsmodels\u001b[39;00m\u001b[39m.\u001b[39;00m\u001b[39mtools\u001b[39;00m\u001b[39m.\u001b[39;00m\u001b[39mvalidation\u001b[39;00m \u001b[39mimport\u001b[39;00m PandasWrapper, array_like\n\u001b[0;32m      9\u001b[0m \u001b[39mfrom\u001b[39;00m \u001b[39mstatsmodels\u001b[39;00m\u001b[39m.\u001b[39;00m\u001b[39mtsa\u001b[39;00m\u001b[39m.\u001b[39;00m\u001b[39mstl\u001b[39;00m\u001b[39m.\u001b[39;00m\u001b[39m_stl\u001b[39;00m \u001b[39mimport\u001b[39;00m STL\n\u001b[1;32m---> 10\u001b[0m \u001b[39mfrom\u001b[39;00m \u001b[39mstatsmodels\u001b[39;00m\u001b[39m.\u001b[39;00m\u001b[39mtsa\u001b[39;00m\u001b[39m.\u001b[39;00m\u001b[39mfilters\u001b[39;00m\u001b[39m.\u001b[39;00m\u001b[39mfiltertools\u001b[39;00m \u001b[39mimport\u001b[39;00m convolution_filter\n\u001b[0;32m     11\u001b[0m \u001b[39mfrom\u001b[39;00m \u001b[39mstatsmodels\u001b[39;00m\u001b[39m.\u001b[39;00m\u001b[39mtsa\u001b[39;00m\u001b[39m.\u001b[39;00m\u001b[39mstl\u001b[39;00m\u001b[39m.\u001b[39;00m\u001b[39mmstl\u001b[39;00m \u001b[39mimport\u001b[39;00m MSTL\n\u001b[0;32m     12\u001b[0m \u001b[39mfrom\u001b[39;00m \u001b[39mstatsmodels\u001b[39;00m\u001b[39m.\u001b[39;00m\u001b[39mtsa\u001b[39;00m\u001b[39m.\u001b[39;00m\u001b[39mtsatools\u001b[39;00m \u001b[39mimport\u001b[39;00m freq_to_period\n",
      "File \u001b[1;32mc:\\ProgramData\\miniconda3\\envs\\py3\\Lib\\site-packages\\statsmodels\\tsa\\filters\\filtertools.py:17\u001b[0m\n\u001b[0;32m     15\u001b[0m \u001b[39mimport\u001b[39;00m \u001b[39mnumpy\u001b[39;00m \u001b[39mas\u001b[39;00m \u001b[39mnp\u001b[39;00m\n\u001b[0;32m     16\u001b[0m \u001b[39mimport\u001b[39;00m \u001b[39mscipy\u001b[39;00m\u001b[39m.\u001b[39;00m\u001b[39mfftpack\u001b[39;00m \u001b[39mas\u001b[39;00m \u001b[39mfft\u001b[39;00m\n\u001b[1;32m---> 17\u001b[0m \u001b[39mfrom\u001b[39;00m \u001b[39mscipy\u001b[39;00m \u001b[39mimport\u001b[39;00m signal\n\u001b[0;32m     19\u001b[0m \u001b[39mtry\u001b[39;00m:\n\u001b[0;32m     20\u001b[0m     \u001b[39mfrom\u001b[39;00m \u001b[39mscipy\u001b[39;00m\u001b[39m.\u001b[39;00m\u001b[39msignal\u001b[39;00m\u001b[39m.\u001b[39;00m\u001b[39m_signaltools\u001b[39;00m \u001b[39mimport\u001b[39;00m _centered \u001b[39mas\u001b[39;00m trim_centered\n",
      "File \u001b[1;32mc:\\ProgramData\\miniconda3\\envs\\py3\\Lib\\site-packages\\scipy\\__init__.py:204\u001b[0m, in \u001b[0;36m__getattr__\u001b[1;34m(name)\u001b[0m\n\u001b[0;32m    177\u001b[0m submodules \u001b[39m=\u001b[39m [\n\u001b[0;32m    178\u001b[0m     \u001b[39m'\u001b[39m\u001b[39mcluster\u001b[39m\u001b[39m'\u001b[39m,\n\u001b[0;32m    179\u001b[0m     \u001b[39m'\u001b[39m\u001b[39mfft\u001b[39m\u001b[39m'\u001b[39m,\n\u001b[1;32m   (...)\u001b[0m\n\u001b[0;32m    193\u001b[0m     \u001b[39m'\u001b[39m\u001b[39mstats\u001b[39m\u001b[39m'\u001b[39m\n\u001b[0;32m    194\u001b[0m ]\n\u001b[0;32m    196\u001b[0m __all__ \u001b[39m=\u001b[39m submodules \u001b[39m+\u001b[39m [\n\u001b[0;32m    197\u001b[0m     \u001b[39m'\u001b[39m\u001b[39mLowLevelCallable\u001b[39m\u001b[39m'\u001b[39m,\n\u001b[0;32m    198\u001b[0m     \u001b[39m'\u001b[39m\u001b[39mtest\u001b[39m\u001b[39m'\u001b[39m,\n\u001b[1;32m   (...)\u001b[0m\n\u001b[0;32m    201\u001b[0m     \u001b[39m'\u001b[39m\u001b[39m__numpy_version__\u001b[39m\u001b[39m'\u001b[39m\n\u001b[0;32m    202\u001b[0m ]\n\u001b[1;32m--> 204\u001b[0m \u001b[39mdef\u001b[39;00m \u001b[39m__dir__\u001b[39m():\n\u001b[0;32m    205\u001b[0m     \u001b[39mreturn\u001b[39;00m __all__\n\u001b[0;32m    207\u001b[0m \u001b[39mimport\u001b[39;00m \u001b[39mimportlib\u001b[39;00m \u001b[39mas\u001b[39;00m \u001b[39m_importlib\u001b[39;00m\n",
      "File \u001b[1;32mc:\\ProgramData\\miniconda3\\envs\\py3\\Lib\\importlib\\__init__.py:126\u001b[0m, in \u001b[0;36mimport_module\u001b[1;34m(name, package)\u001b[0m\n\u001b[0;32m    124\u001b[0m             \u001b[39mbreak\u001b[39;00m\n\u001b[0;32m    125\u001b[0m         level \u001b[39m+\u001b[39m\u001b[39m=\u001b[39m \u001b[39m1\u001b[39m\n\u001b[1;32m--> 126\u001b[0m \u001b[39mreturn\u001b[39;00m _bootstrap\u001b[39m.\u001b[39;49m_gcd_import(name[level:], package, level)\n",
      "File \u001b[1;32mc:\\ProgramData\\miniconda3\\envs\\py3\\Lib\\site-packages\\scipy\\signal\\__init__.py:327\u001b[0m\n\u001b[0;32m    325\u001b[0m \u001b[39mfrom\u001b[39;00m \u001b[39m.\u001b[39;00m\u001b[39m_ltisys\u001b[39;00m \u001b[39mimport\u001b[39;00m \u001b[39m*\u001b[39m\n\u001b[0;32m    326\u001b[0m \u001b[39mfrom\u001b[39;00m \u001b[39m.\u001b[39;00m\u001b[39m_lti_conversion\u001b[39;00m \u001b[39mimport\u001b[39;00m \u001b[39m*\u001b[39m\n\u001b[1;32m--> 327\u001b[0m \u001b[39mfrom\u001b[39;00m \u001b[39m.\u001b[39;00m\u001b[39m_signaltools\u001b[39;00m \u001b[39mimport\u001b[39;00m \u001b[39m*\u001b[39m\n\u001b[0;32m    328\u001b[0m \u001b[39mfrom\u001b[39;00m \u001b[39m.\u001b[39;00m\u001b[39m_savitzky_golay\u001b[39;00m \u001b[39mimport\u001b[39;00m savgol_coeffs, savgol_filter\n\u001b[0;32m    329\u001b[0m \u001b[39mfrom\u001b[39;00m \u001b[39m.\u001b[39;00m\u001b[39m_spectral_py\u001b[39;00m \u001b[39mimport\u001b[39;00m \u001b[39m*\u001b[39m\n",
      "File \u001b[1;32mc:\\ProgramData\\miniconda3\\envs\\py3\\Lib\\site-packages\\scipy\\signal\\_signaltools.py:13\u001b[0m\n\u001b[0;32m     11\u001b[0m \u001b[39mfrom\u001b[39;00m \u001b[39mscipy\u001b[39;00m \u001b[39mimport\u001b[39;00m linalg, fft \u001b[39mas\u001b[39;00m sp_fft\n\u001b[0;32m     12\u001b[0m \u001b[39mfrom\u001b[39;00m \u001b[39mscipy\u001b[39;00m\u001b[39m.\u001b[39;00m\u001b[39mfft\u001b[39;00m\u001b[39m.\u001b[39;00m\u001b[39m_helper\u001b[39;00m \u001b[39mimport\u001b[39;00m _init_nd_shape_and_axes\n\u001b[1;32m---> 13\u001b[0m \u001b[39mfrom\u001b[39;00m \u001b[39mscipy\u001b[39;00m\u001b[39m.\u001b[39;00m\u001b[39m_lib\u001b[39;00m\u001b[39m.\u001b[39;00m\u001b[39m_util\u001b[39;00m \u001b[39mimport\u001b[39;00m prod \u001b[39mas\u001b[39;00m _prod\n\u001b[0;32m     14\u001b[0m \u001b[39mimport\u001b[39;00m \u001b[39mnumpy\u001b[39;00m \u001b[39mas\u001b[39;00m \u001b[39mnp\u001b[39;00m\n\u001b[0;32m     15\u001b[0m \u001b[39mfrom\u001b[39;00m \u001b[39mscipy\u001b[39;00m\u001b[39m.\u001b[39;00m\u001b[39mspecial\u001b[39;00m \u001b[39mimport\u001b[39;00m lambertw\n",
      "\u001b[1;31mImportError\u001b[0m: cannot import name 'prod' from 'scipy._lib._util' (c:\\ProgramData\\miniconda3\\envs\\py3\\Lib\\site-packages\\scipy\\_lib\\_util.py)"
     ]
    }
   ],
   "source": [
    "from statsmodels.tsa.seasonal import STL\n",
    "\n",
    "stl = STL(CandyXTS, seasonal=13)\n",
    "res = stl.fit()\n",
    "fig = res.plot()\n",
    "# # Decompose the time series\n",
    "# decomposition = seasonal_decompose(CandyTS)\n",
    "# trend = decomposition.trend\n",
    "# seasonal = decomposition.seasonal\n",
    "# residual = decomposition.resid"
   ]
  },
  {
   "cell_type": "code",
   "execution_count": null,
   "metadata": {},
   "outputs": [],
   "source": [
    "\n",
    "# Plot the time series\n",
    "plt.plot(CandyXTS)\n",
    "plt.title('Candy Production Time Series')\n",
    "plt.show()\n",
    "\n",
    "# Plot the decomposition results\n",
    "plt.figure(figsize=(12,8))\n",
    "plt.subplot(411)\n",
    "plt.plot(CandyTS, label='Original')\n",
    "plt.legend(loc='best')\n",
    "plt.subplot(412)\n",
    "plt.plot(trend, label='Trend')\n",
    "plt.legend(loc='best')\n",
    "plt.subplot(413)\n",
    "plt.plot(seasonal,label='Seasonality')\n",
    "plt.legend(loc='best')\n",
    "plt.subplot(414)\n",
    "plt.plot(residual, label='Residuals')\n",
    "plt.legend(loc='best')\n",
    "plt.tight_layout()\n",
    "plt.show()\n",
    "\n",
    "# Create a heatmap of the time series\n",
    "plt.figure(figsize=(12,8))\n",
    "sns.heatmap(CandyTS.unstack(level=0), cmap='YlGnBu')\n",
    "plt.title('Candy Production Time Series Heatmap')\n",
    "plt.show()"
   ]
  }
 ],
 "metadata": {
  "kernelspec": {
   "display_name": "py3",
   "language": "python",
   "name": "python3"
  },
  "language_info": {
   "codemirror_mode": {
    "name": "ipython",
    "version": 3
   },
   "file_extension": ".py",
   "mimetype": "text/x-python",
   "name": "python",
   "nbconvert_exporter": "python",
   "pygments_lexer": "ipython3",
   "version": "3.11.4"
  },
  "orig_nbformat": 4
 },
 "nbformat": 4,
 "nbformat_minor": 2
}
