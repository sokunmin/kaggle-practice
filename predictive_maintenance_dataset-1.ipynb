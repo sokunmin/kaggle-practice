{
 "cells": [
  {
   "attachments": {},
   "cell_type": "markdown",
   "metadata": {},
   "source": [
    "# Dataset: Predictive Maintenance Dataset\n",
    "## Tutorial: \n",
    "* [Device Failure Prediction](https://www.kaggle.com/code/williecosta/device-failure-prediction-model)"
   ]
  },
  {
   "attachments": {},
   "cell_type": "markdown",
   "metadata": {},
   "source": []
  }
 ],
 "metadata": {
  "language_info": {
   "name": "python"
  },
  "orig_nbformat": 4
 },
 "nbformat": 4,
 "nbformat_minor": 2
}
